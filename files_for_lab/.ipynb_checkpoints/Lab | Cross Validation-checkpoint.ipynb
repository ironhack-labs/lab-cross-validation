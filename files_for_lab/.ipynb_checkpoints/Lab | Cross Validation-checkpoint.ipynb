{
 "cells": [
  {
   "cell_type": "markdown",
   "id": "a64a0d00",
   "metadata": {},
   "source": [
    "![logo_ironhack_blue 7](https://user-images.githubusercontent.com/23629340/40541063-a07a0a8a-601a-11e8-91b5-2f13e4e6b441.png)\n",
    "\n",
    "# Lab | Cross Validation\n",
    "\n",
    "For this lab, we will build a model on customer churn binary classification problem. You will be using `files_for_lab/Customer-Churn.csv` file.\n",
    "\n",
    "\n",
    "\n",
    "### Instructions\n",
    "\n",
    "1. Apply SMOTE for upsampling the data\n",
    "\n",
    "    - Use logistic regression to fit the model and compute the accuracy of the model.\n",
    "    - Use decision tree classifier to fit the model and compute the accuracy of the model.\n",
    "    - Compare the accuracies of the two models.\n",
    "\n",
    "\n",
    "2. Apply TomekLinks for downsampling\n",
    "\n",
    "    - It is important to remember that it does not make the two classes equal but only removes the points from the majority class that are close to other points in minority class.\n",
    "    - Use logistic regression to fit the model and compute the accuracy of the model.\n",
    "    - Use decision tree classifier to fit the model and compute the accuracy of the model.\n",
    "    - Compare the accuracies of the two models.\n",
    "    - You can also apply this algorithm one more time and check the how the imbalance in the two classes changed from the last time.\n"
   ]
  },
  {
   "cell_type": "code",
   "execution_count": 4,
   "id": "f7032395",
   "metadata": {},
   "outputs": [],
   "source": [
    "import pandas as pd\n",
    "import numpy as np\n",
    "from sklearn.tree import DecisionTreeRegressor\n",
    "from sklearn.model_selection import cross_val_score\n",
    "from sklearn.model_selection import train_test_split\n",
    "from sklearn.neighbors import KNeighborsRegressor\n",
    "from sklearn.linear_model import LinearRegression\n",
    "from sklearn.linear_model import LogisticRegression\n",
    "from sklearn.tree import DecisionTreeClassifier\n",
    "from sklearn.preprocessing import StandardScaler\n",
    "from imblearn.over_sampling import SMOTE"
   ]
  },
  {
   "cell_type": "code",
   "execution_count": null,
   "id": "eec71793",
   "metadata": {},
   "outputs": [],
   "source": [
    "#Apply SMOTE for upsampling the data\n",
    "#Use logistic regression to fit the model and compute the accuracy of the model.\n",
    "#Use decision tree classifier to fit the model and compute the accuracy of the model.\n",
    "#Compare the accuracies of the two models."
   ]
  },
  {
   "cell_type": "code",
   "execution_count": 7,
   "id": "306814d1",
   "metadata": {},
   "outputs": [
    {
     "name": "stdout",
     "output_type": "stream",
     "text": [
      "{'Logistic Regression': 0.7295513804159338, 'Decision Tree Classifier': 0.7425361062248671}\n"
     ]
    }
   ],
   "source": [
    "churnData = pd.read_csv('Customer-Churn.csv')\n",
    "churnData['TotalCharges']  = pd.to_numeric(churnData['TotalCharges'], errors='coerce')\n",
    "churnData['TotalCharges'] = churnData['TotalCharges'].fillna(np.mean(churnData['TotalCharges']))\n",
    "\n",
    "smote = SMOTE()\n",
    "X = churnData[['tenure', 'SeniorCitizen','MonthlyCharges', 'TotalCharges']]\n",
    "transformer = StandardScaler().fit(X)\n",
    "X = transformer.transform(X)\n",
    "y = churnData['Churn']\n",
    "X_sm, y_sm = smote.fit_resample(X, y)\n",
    "\n",
    "X_train, X_test, y_train, y_test = train_test_split(X_sm, y_sm, test_size=0.33)\n",
    "classification_model1 = LogisticRegression(random_state=0, solver='lbfgs', multi_class='ovr')\n",
    "classification_model2 = DecisionTreeClassifier()\n",
    "\n",
    "model_pipeline = [classification_model1, classification_model2]\n",
    "model_names = ['Logistic Regression', 'Decision Tree Classifier']\n",
    "scores = {}\n",
    "i=0\n",
    "for model in model_pipeline:\n",
    "    mean_score = np.mean(cross_val_score(model, X_train, y_train, cv=10))\n",
    "    scores[model_names[i]] = mean_score\n",
    "    i = i+1\n",
    "print(scores)"
   ]
  },
  {
   "cell_type": "code",
   "execution_count": 8,
   "id": "409de40a",
   "metadata": {},
   "outputs": [],
   "source": [
    "#Apply TomekLinks for downsampling\n",
    "\n",
    "#It is important to remember that it does not make the two classes equal but only removes the points from the majority class that are close to other points in minority class.\n",
    "#Use logistic regression to fit the model and compute the accuracy of the model.\n",
    "#Use decision tree classifier to fit the model and compute the accuracy of the model.\n",
    "#Compare the accuracies of the two models.\n",
    "#You can also apply this algorithm one more time and check the how the imbalance in the two classes changed from the last time."
   ]
  },
  {
   "cell_type": "code",
   "execution_count": 10,
   "id": "2bf7fa33",
   "metadata": {},
   "outputs": [
    {
     "name": "stdout",
     "output_type": "stream",
     "text": [
      "{'Logistic Regression': 0.7888932426360721, 'Decision Tree Classifier': 0.7404637263199689}\n"
     ]
    }
   ],
   "source": [
    "from imblearn.under_sampling import TomekLinks\n",
    "tl = TomekLinks(sampling_strategy='majority')\n",
    "X_tl,y_tl=tl.fit_resample(X,y)\n",
    "\n",
    "X_train, X_test, y_train, y_test = train_test_split(X_tl, y_tl, test_size=0.33)\n",
    "classification_model1 = LogisticRegression(random_state=0, solver='lbfgs', multi_class='ovr')\n",
    "classification_model2 = DecisionTreeClassifier()\n",
    "\n",
    "model_pipeline = [classification_model1, classification_model2]\n",
    "model_names = ['Logistic Regression', 'Decision Tree Classifier']\n",
    "scores = {}\n",
    "i=0\n",
    "for model in model_pipeline:\n",
    "    mean_score = np.mean(cross_val_score(model, X_train, y_train, cv=10))\n",
    "    scores[model_names[i]] = mean_score\n",
    "    i = i+1\n",
    "print(scores)"
   ]
  },
  {
   "cell_type": "code",
   "execution_count": 12,
   "id": "a681e48c",
   "metadata": {},
   "outputs": [
    {
     "data": {
      "text/plain": [
       "0.7621696801112656"
      ]
     },
     "execution_count": 12,
     "metadata": {},
     "output_type": "execute_result"
    }
   ],
   "source": [
    "from sklearn.metrics import accuracy_score\n",
    "\n",
    "decision_tree = DecisionTreeClassifier()\n",
    "decision_tree.fit(X_train, y_train)\n",
    "\n",
    "y_pred_dt = decision_tree.predict(X_test)\n",
    "accuracy_dt = accuracy_score(y_test, y_pred_dt)\n",
    "accuracy_dt"
   ]
  },
  {
   "cell_type": "code",
   "execution_count": null,
   "id": "3a59706b",
   "metadata": {},
   "outputs": [],
   "source": [
    "# changes a bit"
   ]
  }
 ],
 "metadata": {
  "kernelspec": {
   "display_name": "Python 3 (ipykernel)",
   "language": "python",
   "name": "python3"
  },
  "language_info": {
   "codemirror_mode": {
    "name": "ipython",
    "version": 3
   },
   "file_extension": ".py",
   "mimetype": "text/x-python",
   "name": "python",
   "nbconvert_exporter": "python",
   "pygments_lexer": "ipython3",
   "version": "3.9.13"
  }
 },
 "nbformat": 4,
 "nbformat_minor": 5
}
