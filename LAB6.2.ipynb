{
 "cells": [
  {
   "cell_type": "code",
   "execution_count": 140,
   "id": "c8d1d3de",
   "metadata": {},
   "outputs": [
    {
     "data": {
      "text/plain": [
       "'\\nApply SMOTE for upsampling the data\\n\\nUse logistic regression to fit the model and compute the accuracy of the model.\\nUse decision tree classifier to fit the model and compute the accuracy of the model.\\nCompare the accuracies of the two models.\\n\\n'"
      ]
     },
     "execution_count": 140,
     "metadata": {},
     "output_type": "execute_result"
    }
   ],
   "source": [
    "'''\n",
    "Apply SMOTE for upsampling the data\n",
    "\n",
    "Use logistic regression to fit the model and compute the accuracy of the model.\n",
    "Use decision tree classifier to fit the model and compute the accuracy of the model.\n",
    "Compare the accuracies of the two models.\n",
    "\n",
    "'''"
   ]
  },
  {
   "cell_type": "code",
   "execution_count": 141,
   "id": "f8f3ad3f",
   "metadata": {},
   "outputs": [],
   "source": [
    "import pandas as pd\n",
    "import numpy as np\n",
    "\n",
    "import warnings\n",
    "warnings.filterwarnings('ignore')"
   ]
  },
  {
   "cell_type": "code",
   "execution_count": 142,
   "id": "93590ddc",
   "metadata": {
    "scrolled": true
   },
   "outputs": [],
   "source": [
    "churn = pd.read_csv(\"/Users/giacomorossini/Desktop/IRONHACK/Laboratory/LAB6.2/lab-cross-validation/files_for_lab/Customer-Churn.csv\")"
   ]
  },
  {
   "cell_type": "code",
   "execution_count": 143,
   "id": "295c6699",
   "metadata": {
    "scrolled": true
   },
   "outputs": [
    {
     "name": "stdout",
     "output_type": "stream",
     "text": [
      "gender : 2\n",
      "SeniorCitizen : 2\n",
      "Partner : 2\n",
      "Dependents : 2\n",
      "tenure : 73\n",
      "PhoneService : 2\n",
      "OnlineSecurity : 3\n",
      "OnlineBackup : 3\n",
      "DeviceProtection : 3\n",
      "TechSupport : 3\n",
      "StreamingTV : 3\n",
      "StreamingMovies : 3\n",
      "Contract : 3\n",
      "MonthlyCharges : 1585\n",
      "TotalCharges : 6541\n",
      "Churn : 2\n"
     ]
    }
   ],
   "source": [
    "for column in churn.columns:\n",
    "    unique = len(set(churn[column]))\n",
    "    print(column,':',unique)"
   ]
  },
  {
   "cell_type": "code",
   "execution_count": 144,
   "id": "707190f2",
   "metadata": {},
   "outputs": [
    {
     "data": {
      "text/plain": [
       "array(['No internet service', 'No', 'Yes'], dtype=object)"
      ]
     },
     "execution_count": 144,
     "metadata": {},
     "output_type": "execute_result"
    }
   ],
   "source": [
    "churn['DeviceProtection'].unique()"
   ]
  },
  {
   "cell_type": "code",
   "execution_count": 145,
   "id": "9ce03345",
   "metadata": {},
   "outputs": [],
   "source": [
    "#one-hot encode column Contract'\n",
    "\n",
    "churn = pd.get_dummies(churn, columns=['Contract', 'OnlineSecurity', 'OnlineBackup','DeviceProtection','TechSupport','StreamingTV','StreamingMovies'])"
   ]
  },
  {
   "cell_type": "code",
   "execution_count": 146,
   "id": "7d048ff8",
   "metadata": {
    "scrolled": true
   },
   "outputs": [],
   "source": [
    "churn.replace(['No', 'Yes', 'Male', 'Female',], [0,1, 0,1], inplace = True)"
   ]
  },
  {
   "cell_type": "code",
   "execution_count": 151,
   "id": "f3a0d408",
   "metadata": {},
   "outputs": [],
   "source": [
    "churn['TotalCharges']=churn['TotalCharges'].fillna(0)"
   ]
  },
  {
   "cell_type": "code",
   "execution_count": 152,
   "id": "3e4b096b",
   "metadata": {},
   "outputs": [],
   "source": [
    "Y = churn['Churn']\n",
    "X = churn.drop('Churn', axis=1)"
   ]
  },
  {
   "cell_type": "markdown",
   "id": "8c5ae909",
   "metadata": {},
   "source": [
    "# SMOTE"
   ]
  },
  {
   "cell_type": "code",
   "execution_count": 154,
   "id": "ac4eb703",
   "metadata": {},
   "outputs": [
    {
     "data": {
      "text/plain": [
       "0    5174\n",
       "1    5174\n",
       "Name: Churn, dtype: int64"
      ]
     },
     "execution_count": 154,
     "metadata": {},
     "output_type": "execute_result"
    }
   ],
   "source": [
    "from imblearn.over_sampling import SMOTE\n",
    "\n",
    "smote = SMOTE() #opening the model\n",
    "\n",
    "\n",
    "x_sm, y_sm = smote.fit_resample(X,Y)\n",
    "y_sm.value_counts()"
   ]
  },
  {
   "cell_type": "code",
   "execution_count": 155,
   "id": "2109905b",
   "metadata": {},
   "outputs": [],
   "source": [
    "from sklearn.model_selection import train_test_split\n",
    "\n",
    "X_train, X_test, y_train, y_test = train_test_split(x_sm, y_sm, random_state = 42, test_size= 0.2)"
   ]
  },
  {
   "cell_type": "markdown",
   "id": "dca2ab6b",
   "metadata": {},
   "source": [
    "# LOGISTIC REGRESSION"
   ]
  },
  {
   "cell_type": "code",
   "execution_count": 156,
   "id": "b0104b52",
   "metadata": {},
   "outputs": [
    {
     "name": "stdout",
     "output_type": "stream",
     "text": [
      "The accuracy of the model is =  0.82\n"
     ]
    }
   ],
   "source": [
    "from sklearn.linear_model import LogisticRegression\n",
    "\n",
    "LR = LogisticRegression()\n",
    "LR.fit(X_train,y_train)\n",
    "result = LR.score(X_test,y_test) \n",
    "print(\"The accuracy of the model is = \", round(result,2))"
   ]
  },
  {
   "cell_type": "markdown",
   "id": "db942c5a",
   "metadata": {},
   "source": [
    "# DECISION TREE CLASSIFIER"
   ]
  },
  {
   "cell_type": "code",
   "execution_count": 159,
   "id": "6f6df46c",
   "metadata": {},
   "outputs": [
    {
     "name": "stdout",
     "output_type": "stream",
     "text": [
      "The accuracy of the model is =  0.83\n"
     ]
    }
   ],
   "source": [
    "from sklearn.tree import DecisionTreeClassifier\n",
    "\n",
    "model = DecisionTreeClassifier(max_depth = 7)\n",
    "model.fit(X_train, y_train)\n",
    "\n",
    "result = model.score(X_test,y_test) \n",
    "print(\"The accuracy of the model is = \", round(result,2))"
   ]
  },
  {
   "cell_type": "code",
   "execution_count": null,
   "id": "ef2f9148",
   "metadata": {},
   "outputs": [],
   "source": [
    "'''\n",
    "Apply TomekLinks for downsampling\n",
    "\n",
    "It is important to remember that it does not make the two classes equal but only removes the points from \n",
    "the majority class that are close to other points in minority class.\n",
    "Use logistic regression to fit the model and compute the accuracy of the model.\n",
    "Use decision tree classifier to fit the model and compute the accuracy of the model.\n",
    "Compare the accuracies of the two models.\n",
    "You can also apply this algorithm one more time and check the how the imbalance in the two classes changed \n",
    "from the last time.\n",
    "\n",
    "'''"
   ]
  },
  {
   "cell_type": "markdown",
   "id": "78d0d715",
   "metadata": {},
   "source": [
    "# TOMEKLINKS"
   ]
  },
  {
   "cell_type": "code",
   "execution_count": 160,
   "id": "074c89d0",
   "metadata": {},
   "outputs": [
    {
     "data": {
      "text/plain": [
       "0    4606\n",
       "1    1869\n",
       "Name: Churn, dtype: int64"
      ]
     },
     "execution_count": 160,
     "metadata": {},
     "output_type": "execute_result"
    }
   ],
   "source": [
    "from imblearn.under_sampling import TomekLinks\n",
    "\n",
    "tl = TomekLinks()\n",
    "\n",
    "x_tl, y_tl = tl.fit_resample(X,Y)\n",
    "y_tl.value_counts()"
   ]
  },
  {
   "cell_type": "code",
   "execution_count": 161,
   "id": "7cc9567c",
   "metadata": {},
   "outputs": [],
   "source": [
    "X_train, X_test, y_train, y_test = train_test_split(x_tl, y_tl, random_state = 42, test_size= 0.2)"
   ]
  },
  {
   "cell_type": "code",
   "execution_count": 162,
   "id": "323d1610",
   "metadata": {},
   "outputs": [
    {
     "name": "stdout",
     "output_type": "stream",
     "text": [
      "The accuracy of the model is =  0.79\n"
     ]
    }
   ],
   "source": [
    "#logistic \n",
    "\n",
    "LR = LogisticRegression()\n",
    "LR.fit(X_train,y_train)\n",
    "result = LR.score(X_test,y_test) \n",
    "print(\"The accuracy of the model is = \", round(result,2))"
   ]
  },
  {
   "cell_type": "code",
   "execution_count": 163,
   "id": "70559132",
   "metadata": {},
   "outputs": [
    {
     "name": "stdout",
     "output_type": "stream",
     "text": [
      "The accuracy of the model is =  0.78\n"
     ]
    }
   ],
   "source": [
    "#decision tree \n",
    "\n",
    "model = DecisionTreeClassifier(max_depth = 7)\n",
    "model.fit(X_train, y_train)\n",
    "\n",
    "result = model.score(X_test,y_test) \n",
    "print(\"The accuracy of the model is = \", round(result,2))"
   ]
  }
 ],
 "metadata": {
  "kernelspec": {
   "display_name": "Python 3 (ipykernel)",
   "language": "python",
   "name": "python3"
  },
  "language_info": {
   "codemirror_mode": {
    "name": "ipython",
    "version": 3
   },
   "file_extension": ".py",
   "mimetype": "text/x-python",
   "name": "python",
   "nbconvert_exporter": "python",
   "pygments_lexer": "ipython3",
   "version": "3.11.5"
  }
 },
 "nbformat": 4,
 "nbformat_minor": 5
}
