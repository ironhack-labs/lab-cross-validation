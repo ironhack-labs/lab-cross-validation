{
 "cells": [
  {
   "cell_type": "code",
   "execution_count": 1,
   "metadata": {},
   "outputs": [],
   "source": [
    "import pandas as pd\n",
    "import numpy as np\n",
    "\n",
    "import warnings\n",
    "warnings.filterwarnings('ignore')"
   ]
  },
  {
   "cell_type": "code",
   "execution_count": 2,
   "metadata": {},
   "outputs": [],
   "source": [
    "# opening and reading the file from csv \n",
    "\n",
    "churn = pd.read_csv(r'C:\\Users\\Tracy\\Desktop\\Class1IR\\Machine_LEARNING\\lab-cross-validation\\files_for_lab\\Customer-Churn.csv')"
   ]
  },
  {
   "cell_type": "code",
   "execution_count": 3,
   "metadata": {},
   "outputs": [
    {
     "name": "stdout",
     "output_type": "stream",
     "text": [
      "gender : 2\n",
      "SeniorCitizen : 2\n",
      "Partner : 2\n",
      "Dependents : 2\n",
      "tenure : 73\n",
      "PhoneService : 2\n",
      "OnlineSecurity : 3\n",
      "OnlineBackup : 3\n",
      "DeviceProtection : 3\n",
      "TechSupport : 3\n",
      "StreamingTV : 3\n",
      "StreamingMovies : 3\n",
      "Contract : 3\n",
      "MonthlyCharges : 1585\n",
      "TotalCharges : 6531\n",
      "Churn : 2\n"
     ]
    }
   ],
   "source": [
    "# checking the number of unique value by column\n",
    "\n",
    "for column in churn.columns:\n",
    "    unique = len(set(churn[column]))\n",
    "    print(column,':',unique)"
   ]
  },
  {
   "cell_type": "code",
   "execution_count": 4,
   "metadata": {},
   "outputs": [
    {
     "data": {
      "text/plain": [
       "array(['No', 'Yes', 'No internet service'], dtype=object)"
      ]
     },
     "execution_count": 4,
     "metadata": {},
     "output_type": "execute_result"
    }
   ],
   "source": [
    "# hcecking unique value for column 'DeviceProtection'\n",
    "\n",
    "churn['DeviceProtection'].unique()"
   ]
  },
  {
   "cell_type": "code",
   "execution_count": 5,
   "metadata": {},
   "outputs": [],
   "source": [
    "#one-hot encode columns'\n",
    "\n",
    "churn = pd.get_dummies(churn, columns=['Contract', 'OnlineSecurity', 'OnlineBackup','DeviceProtection','TechSupport','StreamingTV','StreamingMovies'])"
   ]
  },
  {
   "cell_type": "code",
   "execution_count": 6,
   "metadata": {},
   "outputs": [],
   "source": [
    "# replace the data to from categorical to numeriqual\n",
    "\n",
    "churn.replace(['No', 'Yes', 'Male', 'Female',], [0,1, 0,1], inplace = True)"
   ]
  },
  {
   "cell_type": "code",
   "execution_count": 7,
   "metadata": {},
   "outputs": [],
   "source": [
    "# fill the nan Value in Total Charges\n",
    "\n",
    "churn['TotalCharges']=churn['TotalCharges'].fillna(0)"
   ]
  },
  {
   "cell_type": "code",
   "execution_count": 8,
   "metadata": {},
   "outputs": [],
   "source": []
  },
  {
   "cell_type": "code",
   "execution_count": 9,
   "metadata": {},
   "outputs": [
    {
     "name": "stdout",
     "output_type": "stream",
     "text": [
      "Unique values in 'gender': [1 0]\n",
      "Unique values in 'SeniorCitizen': [0 1]\n",
      "Unique values in 'Partner': [1 0]\n",
      "Unique values in 'Dependents': [0 1]\n",
      "Unique values in 'tenure': [ 1 34  2 45  8 22 10 28 62 13 16 58 49 25 69 52 71 21 12 30 47 72 17 27\n",
      "  5 46 11 70 63 43 15 60 18 66  9  3 31 50 64 56  7 42 35 48 29 65 38 68\n",
      " 32 55 37 36 41  6  4 33 67 23 57 61 14 20 53 40 59 24 44 19 54 51 26  0\n",
      " 39]\n",
      "Unique values in 'PhoneService': [0 1]\n",
      "Unique values in 'MonthlyCharges': [29.85 56.95 53.85 ... 63.1  44.2  78.7 ]\n",
      "Unique values in 'TotalCharges': ['29.85' '1889.5' '108.15' ... '346.45' '306.6' '6844.5']\n",
      "Unique values in 'Churn': [0 1]\n",
      "Unique values in 'Contract_Month-to-month': [ True False]\n",
      "Unique values in 'Contract_One year': [False  True]\n",
      "Unique values in 'Contract_Two year': [False  True]\n",
      "Unique values in 'OnlineSecurity_No': [ True False]\n",
      "Unique values in 'OnlineSecurity_No internet service': [False  True]\n",
      "Unique values in 'OnlineSecurity_Yes': [False  True]\n",
      "Unique values in 'OnlineBackup_No': [False  True]\n",
      "Unique values in 'OnlineBackup_No internet service': [False  True]\n",
      "Unique values in 'OnlineBackup_Yes': [ True False]\n",
      "Unique values in 'DeviceProtection_No': [ True False]\n",
      "Unique values in 'DeviceProtection_No internet service': [False  True]\n",
      "Unique values in 'DeviceProtection_Yes': [False  True]\n",
      "Unique values in 'TechSupport_No': [ True False]\n",
      "Unique values in 'TechSupport_No internet service': [False  True]\n",
      "Unique values in 'TechSupport_Yes': [False  True]\n",
      "Unique values in 'StreamingTV_No': [ True False]\n",
      "Unique values in 'StreamingTV_No internet service': [False  True]\n",
      "Unique values in 'StreamingTV_Yes': [False  True]\n",
      "Unique values in 'StreamingMovies_No': [ True False]\n",
      "Unique values in 'StreamingMovies_No internet service': [False  True]\n",
      "Unique values in 'StreamingMovies_Yes': [False  True]\n"
     ]
    }
   ],
   "source": [
    "import pandas as pd\n",
    "\n",
    "# Assuming you have a DataFrame named 'churn'\n",
    "# Example DataFrame creation (you might have a different method to read your data)\n",
    "# churn = pd.read_csv('your_dataset.csv')\n",
    "\n",
    "# Get unique values for each column in the DataFrame\n",
    "for column in churn.columns:\n",
    "    unique_values = churn[column].unique()\n",
    "    \n",
    "    # Print or use unique values as needed\n",
    "    print(f\"Unique values in '{column}': {unique_values}\")\n"
   ]
  },
  {
   "cell_type": "code",
   "execution_count": 10,
   "metadata": {},
   "outputs": [
    {
     "name": "stdout",
     "output_type": "stream",
     "text": [
      "Unique values in 'TotalCharges': ['29.85' '1889.5' '108.15' ... '346.45' '306.6' '6844.5']\n",
      "Unique values in 'Contract_Month-to-month': [ True False]\n",
      "Unique values in 'Contract_One year': [False  True]\n",
      "Unique values in 'Contract_Two year': [False  True]\n",
      "Unique values in 'OnlineSecurity_No': [ True False]\n",
      "Unique values in 'OnlineSecurity_No internet service': [False  True]\n",
      "Unique values in 'OnlineSecurity_Yes': [False  True]\n",
      "Unique values in 'OnlineBackup_No': [False  True]\n",
      "Unique values in 'OnlineBackup_No internet service': [False  True]\n",
      "Unique values in 'OnlineBackup_Yes': [ True False]\n",
      "Unique values in 'DeviceProtection_No': [ True False]\n",
      "Unique values in 'DeviceProtection_No internet service': [False  True]\n",
      "Unique values in 'DeviceProtection_Yes': [False  True]\n",
      "Unique values in 'TechSupport_No': [ True False]\n",
      "Unique values in 'TechSupport_No internet service': [False  True]\n",
      "Unique values in 'TechSupport_Yes': [False  True]\n",
      "Unique values in 'StreamingTV_No': [ True False]\n",
      "Unique values in 'StreamingTV_No internet service': [False  True]\n",
      "Unique values in 'StreamingTV_Yes': [False  True]\n",
      "Unique values in 'StreamingMovies_No': [ True False]\n",
      "Unique values in 'StreamingMovies_No internet service': [False  True]\n",
      "Unique values in 'StreamingMovies_Yes': [False  True]\n"
     ]
    }
   ],
   "source": [
    "# Identify columns with non-numeric values\n",
    "non_numeric_columns = churn.select_dtypes(exclude=['number']).columns\n",
    "\n",
    "# Print unique values in non-numeric columns\n",
    "for column in non_numeric_columns:\n",
    "    unique_values = churn[column].unique()\n",
    "    print(f\"Unique values in '{column}': {unique_values}\")\n"
   ]
  },
  {
   "cell_type": "code",
   "execution_count": 11,
   "metadata": {},
   "outputs": [],
   "source": [
    "churn['TotalCharges'] =  churn['TotalCharges'].replace(' ',0)"
   ]
  },
  {
   "cell_type": "code",
   "execution_count": 12,
   "metadata": {},
   "outputs": [],
   "source": [
    "# changing data Type of the column 'TotalCharges'\n",
    "\n",
    "churn['TotalCharges'] = pd.to_numeric(churn['TotalCharges'], errors='coerce').astype(float)"
   ]
  },
  {
   "cell_type": "code",
   "execution_count": 13,
   "metadata": {},
   "outputs": [
    {
     "data": {
      "text/plain": [
       "gender                                    int64\n",
       "SeniorCitizen                             int64\n",
       "Partner                                   int64\n",
       "Dependents                                int64\n",
       "tenure                                    int64\n",
       "PhoneService                              int64\n",
       "MonthlyCharges                          float64\n",
       "TotalCharges                            float64\n",
       "Churn                                     int64\n",
       "Contract_Month-to-month                    bool\n",
       "Contract_One year                          bool\n",
       "Contract_Two year                          bool\n",
       "OnlineSecurity_No                          bool\n",
       "OnlineSecurity_No internet service         bool\n",
       "OnlineSecurity_Yes                         bool\n",
       "OnlineBackup_No                            bool\n",
       "OnlineBackup_No internet service           bool\n",
       "OnlineBackup_Yes                           bool\n",
       "DeviceProtection_No                        bool\n",
       "DeviceProtection_No internet service       bool\n",
       "DeviceProtection_Yes                       bool\n",
       "TechSupport_No                             bool\n",
       "TechSupport_No internet service            bool\n",
       "TechSupport_Yes                            bool\n",
       "StreamingTV_No                             bool\n",
       "StreamingTV_No internet service            bool\n",
       "StreamingTV_Yes                            bool\n",
       "StreamingMovies_No                         bool\n",
       "StreamingMovies_No internet service        bool\n",
       "StreamingMovies_Yes                        bool\n",
       "dtype: object"
      ]
     },
     "execution_count": 13,
     "metadata": {},
     "output_type": "execute_result"
    }
   ],
   "source": [
    "# checking Data Type in the Data Frame\n",
    "\n",
    "churn.dtypes"
   ]
  },
  {
   "cell_type": "code",
   "execution_count": 17,
   "metadata": {},
   "outputs": [],
   "source": [
    "# separating the value to get the target value vs the rest of the data frame as x\n",
    "\n",
    "Y = churn['Churn']\n",
    "X = churn.drop('Churn', axis=1)"
   ]
  },
  {
   "cell_type": "code",
   "execution_count": 18,
   "metadata": {},
   "outputs": [
    {
     "data": {
      "text/plain": [
       "Churn\n",
       "0    5174\n",
       "1    5174\n",
       "Name: count, dtype: int64"
      ]
     },
     "execution_count": 18,
     "metadata": {},
     "output_type": "execute_result"
    }
   ],
   "source": [
    "# perform SMOTE model  to be able to balance the data equally\n",
    "\n",
    "from imblearn.over_sampling import SMOTE\n",
    "\n",
    "smote = SMOTE() #opening the model\n",
    "\n",
    "\n",
    "x_sm, y_sm = smote.fit_resample(X,Y)\n",
    "y_sm.value_counts()"
   ]
  },
  {
   "cell_type": "code",
   "execution_count": 19,
   "metadata": {},
   "outputs": [],
   "source": [
    "# preforming Xtrain atest split\n",
    "\n",
    "from sklearn.model_selection import train_test_split\n",
    "\n",
    "X_train, X_test, y_train, y_test = train_test_split(x_sm, y_sm, random_state = 42, test_size= 0.2)"
   ]
  },
  {
   "cell_type": "code",
   "execution_count": 20,
   "metadata": {},
   "outputs": [
    {
     "name": "stdout",
     "output_type": "stream",
     "text": [
      "The accuracy of the model is =  0.83\n"
     ]
    }
   ],
   "source": [
    "\n",
    "# fitting a logistic regression and roudn the resukt \n",
    "# checking the accuracy of the model\n",
    "from sklearn.linear_model import LogisticRegression\n",
    "\n",
    "LR = LogisticRegression()\n",
    "LR.fit(X_train,y_train)\n",
    "result = LR.score(X_test,y_test) \n",
    "print(\"The accuracy of the model is = \", round(result,2))"
   ]
  },
  {
   "cell_type": "code",
   "execution_count": 21,
   "metadata": {},
   "outputs": [
    {
     "name": "stdout",
     "output_type": "stream",
     "text": [
      "The accuracy of the model is =  0.83\n"
     ]
    }
   ],
   "source": [
    "# same with decision tree now\n",
    "# checking the accuracy of the model and it sthe same for both model\n",
    "\n",
    "from sklearn.tree import DecisionTreeClassifier\n",
    "\n",
    "model = DecisionTreeClassifier(max_depth = 7)\n",
    "model.fit(X_train, y_train)\n",
    "\n",
    "result = model.score(X_test,y_test) \n",
    "print(\"The accuracy of the model is = \", round(result,2))"
   ]
  },
  {
   "cell_type": "markdown",
   "metadata": {},
   "source": [
    "Apply TomekLinks for downsampling\n",
    "\n",
    "It is important to remember that it does not make the two classes equal but only removes the points from \n",
    "the majority class that are close to other points in minority class.\n",
    "Use logistic regression to fit the model and compute the accuracy of the model.\n",
    "Use decision tree classifier to fit the model and compute the accuracy of the model.\n",
    "Compare the accuracies of the two models.\n",
    "You can also apply this algorithm one more time and check the how the imbalance in the two classes changed \n",
    "from the last time.\n"
   ]
  },
  {
   "cell_type": "code",
   "execution_count": 23,
   "metadata": {},
   "outputs": [
    {
     "data": {
      "text/plain": [
       "Churn\n",
       "0    4606\n",
       "1    1869\n",
       "Name: count, dtype: int64"
      ]
     },
     "execution_count": 23,
     "metadata": {},
     "output_type": "execute_result"
    }
   ],
   "source": [
    "# Using TomekLinks to separate the data and remove the occurence of the majority class if they are close from each other\n",
    "\n",
    "from imblearn.under_sampling import TomekLinks\n",
    "\n",
    "tl = TomekLinks()\n",
    "\n",
    "x_tl, y_tl = tl.fit_resample(X,Y)\n",
    "y_tl.value_counts()"
   ]
  },
  {
   "cell_type": "code",
   "execution_count": 24,
   "metadata": {},
   "outputs": [],
   "source": [
    "# Now splitting the data again using the Data from Tomek link\n",
    "\n",
    "X_train, X_test, y_train, y_test = train_test_split(x_tl, y_tl, random_state = 42, test_size= 0.2)"
   ]
  },
  {
   "cell_type": "code",
   "execution_count": 25,
   "metadata": {},
   "outputs": [
    {
     "name": "stdout",
     "output_type": "stream",
     "text": [
      "The accuracy of the model is =  0.8\n"
     ]
    }
   ],
   "source": [
    "#performing again the logistic regression\n",
    "\n",
    "LR = LogisticRegression()\n",
    "LR.fit(X_train,y_train)\n",
    "result = LR.score(X_test,y_test) \n",
    "print(\"The accuracy of the model is = \", round(result,2))"
   ]
  },
  {
   "cell_type": "code",
   "execution_count": 26,
   "metadata": {},
   "outputs": [
    {
     "name": "stdout",
     "output_type": "stream",
     "text": [
      "The accuracy of the model is =  0.8\n"
     ]
    }
   ],
   "source": [
    "#performing again the decision tree and apparently for both model the accurancy is less after Tomek Link\n",
    "\n",
    "model = DecisionTreeClassifier(max_depth = 7)\n",
    "model.fit(X_train, y_train)\n",
    "\n",
    "result = model.score(X_test,y_test) \n",
    "print(\"The accuracy of the model is = \", round(result,2))"
   ]
  },
  {
   "cell_type": "code",
   "execution_count": null,
   "metadata": {},
   "outputs": [],
   "source": []
  },
  {
   "cell_type": "code",
   "execution_count": null,
   "metadata": {},
   "outputs": [],
   "source": []
  },
  {
   "cell_type": "code",
   "execution_count": null,
   "metadata": {},
   "outputs": [],
   "source": []
  },
  {
   "cell_type": "code",
   "execution_count": null,
   "metadata": {},
   "outputs": [],
   "source": []
  },
  {
   "cell_type": "code",
   "execution_count": null,
   "metadata": {},
   "outputs": [],
   "source": []
  },
  {
   "cell_type": "code",
   "execution_count": null,
   "metadata": {},
   "outputs": [],
   "source": []
  }
 ],
 "metadata": {
  "kernelspec": {
   "display_name": "base",
   "language": "python",
   "name": "python3"
  },
  "language_info": {
   "codemirror_mode": {
    "name": "ipython",
    "version": 3
   },
   "file_extension": ".py",
   "mimetype": "text/x-python",
   "name": "python",
   "nbconvert_exporter": "python",
   "pygments_lexer": "ipython3",
   "version": "3.11.6"
  }
 },
 "nbformat": 4,
 "nbformat_minor": 2
}
